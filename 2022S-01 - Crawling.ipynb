{
 "cells": [
  {
   "cell_type": "markdown",
   "metadata": {},
   "source": [
    "# 1. Crawler\n",
    "\n",
    "## 1.0. Related example\n",
    "\n",
    "This code shows `wget`-like tool written in python. Run it from console (`python wget.py`), make it work. Check the code, reuse, and modify for your needs."
   ]
  },
  {
   "cell_type": "code",
   "execution_count": 1,
   "metadata": {},
   "outputs": [
    {
     "name": "stderr",
     "output_type": "stream",
     "text": [
      "usage: ipykernel_launcher.py [-h] [-O FILENAME] url\n",
      "ipykernel_launcher.py: error: unrecognized arguments: -f\n"
     ]
    },
    {
     "ename": "SystemExit",
     "evalue": "2",
     "output_type": "error",
     "traceback": [
      "An exception has occurred, use %tb to see the full traceback.\n",
      "\u001B[0;31mSystemExit\u001B[0m\u001B[0;31m:\u001B[0m 2\n"
     ]
    },
    {
     "name": "stderr",
     "output_type": "stream",
     "text": [
      "/home/guzel/anaconda3/envs/pythonProject/lib/python3.9/site-packages/IPython/core/interactiveshell.py:3452: UserWarning: To exit: use 'exit', 'quit', or Ctrl-D.\n",
      "  warn(\"To exit: use 'exit', 'quit', or Ctrl-D.\", stacklevel=1)\n"
     ]
    }
   ],
   "source": [
    "import argparse\n",
    "import os\n",
    "import re\n",
    "\n",
    "import pythainlp\n",
    "import requests\n",
    "\n",
    "\n",
    "def wget(url, filename):\n",
    "    # allow redirects - in case file is relocated\n",
    "    resp = requests.get(url, allow_redirects=True)\n",
    "    # this can also be 2xx, but for simplicity now we stick to 200\n",
    "    # you can also check for `resp.ok`\n",
    "    if resp.status_code != 200:\n",
    "        print(resp.status_code, resp.reason, 'for', url)\n",
    "        return\n",
    "    \n",
    "    # just to be cool and print something\n",
    "    print(*[f\"{key}: {value}\" for key, value in resp.headers.items()], sep='\\n')\n",
    "    print()\n",
    "    \n",
    "    # try to extract filename from url\n",
    "    if filename is None:\n",
    "        # start with http*, ends if ? or # appears (or none of)\n",
    "        m = re.search(\"^http.*/([^/\\?#]*)[\\?#]?\", url)\n",
    "        filename = m.group(1)\n",
    "        if not filename:\n",
    "            raise NameError(f\"Filename neither given, nor found for {url}\")\n",
    "\n",
    "    # what will you do in case 2 websites store file with the same name?\n",
    "    if os.path.exists(filename):\n",
    "        raise OSError(f\"File {filename} already exists\")\n",
    "    \n",
    "    with open(filename, 'wb') as f:\n",
    "        f.write(resp.content)\n",
    "        print(f\"File saved as {filename}\")\n",
    "\n",
    "\n",
    "if __name__ == \"__main__\":\n",
    "    parser = argparse.ArgumentParser(description='download file.')\n",
    "    parser.add_argument(\"-O\", type=str, default=None, dest='filename', help=\"output file name. Default -- taken from resource\")\n",
    "    parser.add_argument(\"url\", type=str, default=None, help=\"Provide URL here\")\n",
    "    args = parser.parse_args()\n",
    "    wget(args.url, args.filename)"
   ]
  },
  {
   "cell_type": "markdown",
   "metadata": {},
   "source": [
    "### 1.0.1. How to parse a page?\n",
    "\n",
    "If you build a crawler, you might follow one of the approaches:\n",
    "1. search for URLs in the page, assuming this is just a text.\n",
    "2. search for URLs in the places where URLs should appear: `<a href=..`, `<img src=...`, `<iframe src=...` and so on.\n",
    "\n",
    "To follow the first approach you can rely on some good regular expression. [Like this](https://stackoverflow.com/a/3809435).\n",
    "\n",
    "To follow the second approach just read one of these: [short answer](https://stackoverflow.com/questions/1080411/retrieve-links-from-web-page-using-python-and-beautifulsoup) or [exhaustive explanation](https://hackersandslackers.com/scraping-urls-with-beautifulsoup/)."
   ]
  },
  {
   "cell_type": "markdown",
   "metadata": {},
   "source": [
    "## 1.1. [15] Download and persist #\n",
    "Please complete a code for `load()`, `download()` and `persist()` methods of `Document` class. What they do:\n",
    "- for a given URL `download()` method downloads binary data and stores in `self.content`. It returns `True` for success, else `False`.\n",
    "- `persist()` method saves `self.content` somewhere in file system. We do it to avoid multiple downloads (for caching in other words).\n",
    "- `load()` method loads data from hard drive. Returns `True` for success.\n",
    "\n",
    "Tests checks that your code somehow works.\n",
    "\n",
    "**NB Passing the test doesn't mean you correctly completed the task.** These are **criteria, which have to be fullfilled**:\n",
    "1. URL is a unique identifier (as it is a subset of URI). Thus, documents with different URLs should be stored in different files. Typical errors: documents from the same domain are overwritten to the same file, URLs with similar endings are downloaded to the same file, etc.\n",
    "2. The document can be not only a text file, but also a binary. Pay attention that if you download `mp3` file, it still can be played. Hint: don't hurry to convert everything to text."
   ]
  },
  {
   "cell_type": "code",
   "execution_count": 67,
   "metadata": {},
   "outputs": [],
   "source": [
    "import requests\n",
    "import hashlib\n",
    "from urllib.parse import quote\n",
    "\n",
    "class Document:\n",
    "    \n",
    "    def __init__(self, url):\n",
    "        self.url = url\n",
    "        self.content=None\n",
    "        self.name=None\n",
    "        \n",
    "    def get(self):\n",
    "        if not self.load():\n",
    "            if not self.download():\n",
    "                raise FileNotFoundError(self.url)\n",
    "            else:\n",
    "                self.persist()\n",
    "    \n",
    "    def download(self):\n",
    "        #TODO download self.url content, store it in self.content and return True in case of success\n",
    "        url = self.url\n",
    "        r = requests.get(url)\n",
    "        self.content = r.content\n",
    "\n",
    "        if r.status_code !=200:\n",
    "            return False\n",
    "        return True\n",
    "    \n",
    "    def persist(self):\n",
    "        #TODO write document content to hard drive\n",
    "        url = self.url\n",
    "        self.name = quote(url).replace(\"/\",\"_\")\n",
    "        r = requests.get(url)\n",
    "        if len(self.name)>127:\n",
    "            self.name = self.name[:127]\n",
    "        open(self.name,'w').write(r.content.decode('utf-8'))\n",
    "            \n",
    "    def load(self):\n",
    "        #TODO load content from hard drive, store it in self.content and return True in case of success\n",
    "        try:\n",
    "            self.content = open(self.name,'r').read()\n",
    "            if self.content!=None:\n",
    "                return True\n",
    "        except:\n",
    "            return False"
   ]
  },
  {
   "cell_type": "markdown",
   "metadata": {},
   "source": [
    "### 1.1.1. Tests ###"
   ]
  },
  {
   "cell_type": "code",
   "execution_count": 68,
   "metadata": {},
   "outputs": [],
   "source": [
    "doc = Document('http://sprotasov.ru/data/iu.txt')\n",
    "\n",
    "doc.get()\n",
    "assert doc.content, \"Document download failed\"\n",
    "assert \"Code snippets, demos and labs for the course\" in str(doc.content), \"Document content error\"\n",
    "\n",
    "doc.get()\n",
    "assert doc.load(), \"Load should return true for saved document\"\n",
    "assert \"Code snippets, demos and labs for the course\" in str(doc.content), \"Document load from disk error\""
   ]
  },
  {
   "cell_type": "markdown",
   "metadata": {},
   "source": [
    "## 1.2. [M][15] Account the caching policy\n",
    "\n",
    "Sometimes remote documents (especially when we speak about static content like `js` or `gif`) can swear that they will not change for some time. This is done by setting [Cache-Control response header](https://developer.mozilla.org/en-US/docs/Web/HTTP/Headers/Cache-Control)."
   ]
  },
  {
   "cell_type": "code",
   "execution_count": 69,
   "metadata": {},
   "outputs": [
    {
     "data": {
      "text/plain": "'public, s-maxage=31536000, max-age=604800, stale-while-revalidate=604800, stale-if-error=604800'"
     },
     "execution_count": 69,
     "metadata": {},
     "output_type": "execute_result"
    }
   ],
   "source": [
    "import requests\n",
    "requests.get('https://polyfill.io/v3/polyfill.min.js').headers['Cache-Control']"
   ]
  },
  {
   "cell_type": "code",
   "execution_count": 69,
   "outputs": [],
   "source": [],
   "metadata": {
    "collapsed": false,
    "pycharm": {
     "name": "#%%\n"
    }
   }
  },
  {
   "cell_type": "markdown",
   "metadata": {},
   "source": [
    "Please study the documentation and implement a descendant to a `Document` class, which will refresh the document in case of expired cache even if the file is already on the hard drive."
   ]
  },
  {
   "cell_type": "code",
   "execution_count": 70,
   "metadata": {},
   "outputs": [],
   "source": [
    "class CachedDocument(Document):\n",
    "    def __init__(self, url):\n",
    "        Document.__init__(self,url)\n",
    "        self.cash_max_age= 0\n",
    "        self.time=0 #time of last version\n",
    "    def load(self):\n",
    "        #TODO download self.url content, store it in self.content and return True in case of success\n",
    "        url = self.url\n",
    "        r = requests.get(url)\n",
    "        if self.cash_max_age<=time.time()-self.time:\n",
    "            self.content = r.content\n",
    "            #find max-age\n",
    "            headers=r.headers['Cache-Control'].split(',')\n",
    "            for header in headers:\n",
    "                if 'max-age' in header:\n",
    "                    self.cash_max_age=int(header.split('=')[1])\n",
    "            self.time=time.time()\n",
    "            print('Document was updated ',self.name)\n",
    "            try:\n",
    "                self.content = open(self.name,'r').read()\n",
    "                if self.content!=None:\n",
    "                    return True\n",
    "            except:\n",
    "                return False\n",
    "    # TODO your code here\n"
   ]
  },
  {
   "cell_type": "markdown",
   "metadata": {},
   "source": [
    "### 1.2.1. Tests\n",
    "\n",
    "Add logging in your code and show that your code behaves differently for documents with different caching policy."
   ]
  },
  {
   "cell_type": "code",
   "execution_count": 71,
   "metadata": {},
   "outputs": [
    {
     "name": "stdout",
     "output_type": "stream",
     "text": [
      "Document was updated  None\n",
      "Document was updated  None\n",
      "Document was updated  https%3A__yandex.ru_\n",
      "Document was updated  https%3A__yandex.ru_\n"
     ]
    }
   ],
   "source": [
    "import time\n",
    "\n",
    "doc = CachedDocument('https://polyfill.io/v3/polyfill.min.js')\n",
    "doc.get()\n",
    "time.sleep(2)\n",
    "doc.get()\n",
    "time.sleep(2)\n",
    "doc.get()\n",
    "\n",
    "doc = CachedDocument('https://yandex.ru/')\n",
    "doc.get()\n",
    "time.sleep(2)\n",
    "doc.get()\n",
    "time.sleep(2)\n",
    "doc.get()"
   ]
  },
  {
   "cell_type": "markdown",
   "source": [
    "The first document showed message about updating 1 time\n",
    "yandex.ru was updated 3 times\n",
    "\n"
   ],
   "metadata": {
    "collapsed": false,
    "pycharm": {
     "name": "#%% md\n"
    }
   }
  },
  {
   "cell_type": "markdown",
   "metadata": {},
   "source": [
    "## 1.3. [10] Parse HTML ##\n",
    "`BeautifulSoap` library is a de facto standard to parse XML and HTML documents in python. Use it to complete `parse()` method that extracts document contents. You should initialize:\n",
    "- `self.anchors` list of tuples `('text', 'url')` met in a document. Be aware, there exist relative links (e.g. `../content/pic.jpg`). Use `urllib.parse.urljoin()` to fix this issue.\n",
    "- `self.images` list of images met in a document. Again, links can be relative to current page.\n",
    "- `self.text` should keep plain text of the document without scripts, tags, comments and so on. You can refer to [this stackoverflow answer](https://stackoverflow.com/a/1983219) for details.\n",
    "\n",
    "**NB All these 3 criteria must be fulfilled to get full point for the task.**"
   ]
  },
  {
   "cell_type": "code",
   "execution_count": 72,
   "metadata": {},
   "outputs": [],
   "source": [
    "from bs4 import BeautifulSoup\n",
    "from bs4.element import Comment\n",
    "import urllib.parse\n",
    "\n",
    "\n",
    "class HtmlDocument(Document):\n",
    "    \n",
    "    def parse(self):\n",
    "        #TODO extract plain text, images and links from the document\n",
    "        soup = BeautifulSoup(self.content)\n",
    "        self.anchors = [tuple([link.getText(), urllib.parse.urljoin(self.url,link.get('href'))])for link in soup.find_all('a')]\n",
    "\n",
    "        self.images = [urllib.parse.urljoin(self.url,img.get('src')) for img in soup.find_all('img')]\n",
    "        #find_all('a')= [<a class=\"sister\" href=\"http://example.com/elsie\" id=\"link1\">Elsie</a>,\n",
    "        #  <a class=\"sister\" href=\"http://example.com/lacie\" id=\"link2\">Lacie</a>,\n",
    "        #  <a class=\"sister\" href=\"http://example.com/tillie\" id=\"link3\">Tillie</a>]\n",
    "        # img.get('src') returns link to the image\n",
    "        self.text = self.text_from_html(self.content)\n",
    "\n",
    "    def tag_visible(self,element):\n",
    "        if element.parent.name in ['style', 'script', 'head', 'title', 'meta', '[document]']:\n",
    "            return False\n",
    "        if isinstance(element, Comment):\n",
    "            return False\n",
    "        return True\n",
    "\n",
    "\n",
    "    def text_from_html(self,body):\n",
    "        soup = BeautifulSoup(body, 'html.parser')\n",
    "        texts = soup.findAll(text=True)\n",
    "        visible_texts = filter(self.tag_visible, texts)\n",
    "        return u\" \".join(t.strip() for t in visible_texts)\n",
    "\n"
   ]
  },
  {
   "cell_type": "markdown",
   "metadata": {},
   "source": [
    "### 1.3.1. Tests ###"
   ]
  },
  {
   "cell_type": "code",
   "execution_count": 73,
   "metadata": {},
   "outputs": [],
   "source": [
    "doc = HtmlDocument(\"http://sprotasov.ru\")\n",
    "doc.get()\n",
    "doc.parse()\n",
    "\n",
    "assert \"just few links\" in doc.text, \"Error parsing text\"\n",
    "assert \"http://sprotasov.ru/images/gb.svg\" in doc.images, \"Error parsing images\"\n",
    "assert any(p[1] == \"https://twitter.com/07C3\" for p in doc.anchors), \"Error parsing links\""
   ]
  },
  {
   "cell_type": "code",
   "execution_count": 74,
   "outputs": [
    {
     "data": {
      "text/plain": "['https://mc.yandex.ru/watch/53482672',\n 'http://sprotasov.ru/images/gb.svg',\n 'http://sprotasov.ru/images/gb.svg',\n 'http://sprotasov.ru/images/gb.svg',\n 'http://sprotasov.ru/images/ru.svg',\n 'http://sprotasov.ru/images/ru.svg',\n 'http://sprotasov.ru/images/gb.svg',\n 'http://sprotasov.ru/images/gb.svg',\n 'http://sprotasov.ru/images/ru.svg',\n 'http://sprotasov.ru/images/gb.svg',\n 'http://sprotasov.ru/images/ru.svg',\n 'http://sprotasov.ru/images/ru.svg',\n 'http://sprotasov.ru/images/gb.svg']"
     },
     "execution_count": 74,
     "metadata": {},
     "output_type": "execute_result"
    }
   ],
   "source": [
    "doc.images"
   ],
   "metadata": {
    "collapsed": false,
    "pycharm": {
     "name": "#%%\n"
    }
   }
  },
  {
   "cell_type": "markdown",
   "metadata": {},
   "source": [
    "## 1.4. [10] Document analysis ##\n",
    "Complete the code for `HtmlDocumentTextData` class. Implement word and sentence splitting (use any method you can propose). \n",
    "\n",
    "**Criteria of success**: \n",
    "1. Your `get_word_stats()` method should return `Counter` object.\n",
    "2. Don't forget to lowercase your words for counting.\n",
    "3. Sentences should be obtained inside `<body>` tag only."
   ]
  },
  {
   "cell_type": "code",
   "execution_count": 75,
   "outputs": [],
   "source": [
    "#pip install pythainlp\n",
    "#pip install camel-tools"
   ],
   "metadata": {
    "collapsed": false,
    "pycharm": {
     "name": "#%%\n"
    }
   }
  },
  {
   "cell_type": "code",
   "execution_count": 76,
   "metadata": {},
   "outputs": [
    {
     "name": "stderr",
     "output_type": "stream",
     "text": [
      "[nltk_data] Downloading package punkt to /home/guzel/nltk_data...\n",
      "[nltk_data]   Package punkt is already up-to-date!\n"
     ]
    }
   ],
   "source": [
    "from collections import Counter\n",
    "import re\n",
    "import nltk\n",
    "nltk.download('punkt')\n",
    "class HtmlDocumentTextData:\n",
    "    \n",
    "    def __init__(self, url):\n",
    "        self.doc = HtmlDocument(url)\n",
    "        self.doc.get()\n",
    "        self.doc.parse()\n",
    "    \n",
    "    def get_sentences(self):\n",
    "        #TODO implement sentence parser\n",
    "        text=self.doc.text\n",
    "        sent_text = nltk.sent_tokenize(text)\n",
    "        return sent_text\n",
    "    \n",
    "    def get_word_stats(self):\n",
    "        text=self.doc.text.lower()\n",
    "\n",
    "\n",
    "        #TODO return Counter object of the document, containing mapping {`word` -> count_in_doc}\n",
    "\n",
    "        return Counter(re.split(r'\\W+',text))\n",
    "        #return Counter(nltk.word_tokenize(text))"
   ]
  },
  {
   "cell_type": "code",
   "execution_count": 76,
   "outputs": [],
   "source": [],
   "metadata": {
    "collapsed": false,
    "pycharm": {
     "name": "#%%\n"
    }
   }
  },
  {
   "cell_type": "markdown",
   "metadata": {},
   "source": [
    "### 1.4.1. Tests ###"
   ]
  },
  {
   "cell_type": "code",
   "execution_count": 77,
   "metadata": {},
   "outputs": [
    {
     "name": "stdout",
     "output_type": "stream",
     "text": [
      "[('и', 59), ('в', 30), ('иннополис', 20), ('по', 17), ('2022', 16), ('на', 14), ('университет', 12), ('области', 10), ('ит', 10), ('с', 10)]\n",
      "['               Все медиа  Facebook Вконтакте Youtube Twitter Instagram habr      Абитуриентам  Бизнесу  Медиа   Личный кабинет      Университет      Об университете     Органы управления     Учредители    Наблюдательный совет      Команда университета     Организационная структура    Образовательные и научные подразделения    Технологические центры      Преподавательский состав     Профессорско-преподавательский состав    Вакантные должности ППС      Работа в университете     Карьера в университете    Корпоративная жизнь    Релокация в Иннополис    Вакансии      Кампус     Кампус  Информация о жилом, учебном и спортивном комплексах, медцентре, питании и досуге на территории города и Университета Иннополис.', 'Ответы на часто задаваемые вопросы      Сведения об образовательной организации     Сведения об образовательной организации  Информация об образовательной деятельности, приёмной кампании, структуре и органах управления университетом, финансово-хозяйственной деятельности      Сувениры и одежда    Мерч Университета Иннополис       Университет Иннополис  Специализируется на образовании, исследованиях и разработках в области информационных технологий и робототехники     Образование      Приемная кампания 22/23     Абитуриентам    День открытых дверей    Образовательный грант    Олимпиадные бонусы    Часто задаваемые вопросы    Документы      Довузовское образование     О довузе    Подготовка к ЕГЭ    Подготовка к поступлению    Олимпиады    Календарь мероприятий    Курсы по программированию для школьников Прогматика_      Бакалавриат     Анализ данных и искусственный интеллект    Информатика и вычислительная  техника      Магистратура     Анализ данных и искусственный интеллект    Компьютерная безопасность и сети    Робототехника и компьютерное зрение    Технологическое предпринимательство    Управление разработкой программного обеспечения      Аспирантура     Аспирантура  Программа для молодых ученых и будущих преподавателей, которые интересуются исследованиями в области компьютерных наук и обладают опытом исследовательской или прикладной деятельности в области информационных технологий      Курсы повышения квалификации     HR специалистам    Бизнесу    Преподавателям и методистам    Программирование и ИТ профессии      Опорный образовательный центр     Корпоративное обучение     Корпоративное обучение  Образовательные программы для бизнеса по темам ИТ, цифровой трансформации, управления продуктами и инновациями.', 'Ускоренная подготовка ИТ-специалистов      Институт дополнительного образования     Об Институте    Опорный образовательный центр    Центр ИТ подготовки    Центр корпоративного обучения    Центр проектов и практик      Стажировки и трудоустройство     Студенческая жизнь     Клуб выпускников       Образование  Программы обучения разработаны совместно с мировыми экспертами в сфере информатики, робототехники и программной инженерии с опытом работы в топ-100 вузов мира в партнерстве с компаниями IT‑индустрии     Наука      Научная деятельность     Научная деятельность  Сведения о научных разработках и инновационных проектах, осуществляемых учеными Университета Иннополис      Институт разработки ПО и программной инженерии     Лаборатория ОС, языков программирования и компиляторов    Лаборатория программной инженерии    Лаборатория промышленной разработки ПО      Институт анализа данных и искусственного интеллекта     Лаборатория анализа данных и биоинформатики    Лаборатория анализа данных и машинного обучения в нефтегазовой отрасли    Лаборатория искусственного интеллекта в разработке игр    Лаборатория машинного обучения и представления данных      Институт информационной безопасности и киберфизических систем     Лаборатория киберфизических систем    Лаборатория сетей и блокчейн технологий      Институт робототехники и компьютерного зрения     Лаборатория интеллектуальных робототехнических систем      Публикации     Патенты и свидетельства     Патенты и свидетельства  Объекты интеллектуальной собственности, зарегистрированные АНО ВО Университет Иннополис      Семинары    Открытые научные семинары Университета Иннополис       Наука  В Университете Иннополис действуют 13 лабораторий и 6 научных центров, в которых ведется исследовательская работа в области искусственного интеллекта, робототехники, big data, разработки ПО, информационной безопасности     Проекты      Проектная деятельность    Проектная деятельность университета направлена на реализацию грантовых, частных и частно-государственных коммерческих проектов, а также на повышение доступности образования в сфере ИТ.', 'Портфель проектов    Сотрудничаем с крупнейшими российскими компаниями из сферы финансов, медицины, IT, а также нефтегазовой, транспортной и сельскохозяйственной отраслей.', 'Технологические центры     Институт искусственного интеллекта    ЛИЦ в области систем распределенного реестра    Центр геоинформационных систем    Центр информационной безопасности    Центр нефтегазовых технологий    Центр НТИ по направлению «Технологии компонентов робототехники и мехатроники»      Поддержка инновационной деятельности    Мы ориентированы на практический результат: научные исследования приводят к цифровым решениям, востребованным бизнесом и государством.', 'Цифровая экономика    Университет Иннополис активно участвует в реализации научных и образовательных проектов в рамках национальной программы «Цифровая экономика Российской Федерации».', 'Стартап-студия    Развитие и поддержка студенческих технологических стартапов: создаём стартап-комьюнити студентов и помогаем в поиске партнеров и инвестиций.', 'Трансфер технологий    Мы создаём условия для того, чтобы технологии и разработки Университета эффективно внедрялись в реальные секторы экономики.', 'Проекты  Исследуем и проектируем новые технологические решения совместно с ведущими ИТ-компаниями России, вендорами и 53 академическими партнёрами по всему миру     Сотрудничество      Индустриальное сотрудничество     Организация мероприятий     Стать спонсором       Университет Иннополис  Специализируется на образовании, исследованиях и разработках в области информационных технологий и робототехники      Контакты            Личный кабинет                         Университет Иннополис   Образование, исследования и разработки в области ИТ и робототехники      Высшее образование         Дополнительное образование         Довузовское образование         Вакансии           Новости      19.01.2022  Университет Иннополис открыл регистрацию на онлайн-хакатон по ИИ с призовым фондом 1 млн рублей      19.01.2022  Университет Иннополис открыл регистрацию на онлайн-хакатон по ИИ с призовым фондом 1 млн рублей    3.02.2022  Открыта регистрация на весенние интенсивы  по программированию и подготовке к ЕГЭ Университета Иннополис    1.02.2022  Курсы повышения квалификации для тренеров и педагогов по образовательной робототехнике «Олимпиадная подготовка к WRO 2022»    25.01.2022  Университет Иннополис запустил обучение  для тьюторов в области EdTech        24.01.2022  Университет Иннополис обучит российские вузы проводить цифровую трансформацию   Обучение Центра проектов и практик на базе российского ИТ-вуза пройдёт\\xa0\\xa01 марта — 19 мая.', 'По итогам слушатели создадут проекты стратегий цифровой трансформации своей образовательной организации в соответствии с федеральными требованиями.', 'Программа разработана по заказу Минобрнауки России.', 'Читать      24.01.2022  DZ Systems и Университет Иннополис сообщили о завершающей фазе разработки российской ОС «Фантом»   Группа ИТ-компаний DZ Systems и Университет Иннополис сообщают о переходе к завершающей стадии разработки российской ОС «Фантом»\\xa0— уникальной операционной системы нового поколения, базирующейся на принципиально новом подходе к созданию программного кода.', 'Потенциальные области применения ОС «Фантом» — предприятия энергетического сектора, включая атомные электростанции,  медицинские учреждения, промышленные предприятия непрерывного цикла, банки, оборонно-промышленный комплекс, многие объекты критической информационной инфраструктуры, где требуется повышенная безопасность.', 'В течение 2022 года планируется получение тестовой версии, ее итогом станет создание рабочего прототипа ОС «Фантом», портированной на базу ядра Genode.', 'Читать      18.01.2022  Дочерняя компания Университета Иннополис разрабатывает отечественное ПО для работы спецтехники в беспилотном режиме   С помощью новых решений компании DigitalAutoSystems, учреждённой российским ИТ-вузом, спецтехника сможет самостоятельно строить маршруты, в том числе по бездорожью, подготавливать площадки для работ, копать грунт и перевозить грузы.', 'Внедрение платформы InnoRide повысит точность и эффективность операций за счет снижения человеческих ошибок, а также обезопасит человека от работ в опасных условиях.', 'Проект реализуется при поддержке Российского фонда развития информационных технологий, входящего в группу государственной корпорации развития ВЭБ.РФ  Читать      Все НОВОСТИ       Мероприятия       8 апреля — 9 апреля 2022  конференция  CrossConf        9 февраля — 24 февраля 2022  хакатон  Международный отраслевой хакатон в области искусственного интеллекта «The Global AI Challenge»        23 февраля — 27 февраля 2022  олимпиада  Олимпиада Innopolis Open по информационной безопасности        20 мая — 21 мая 2022  конференция  Merge 2022        19 февраля — 20 февраля 2022  олимпиада  Олимпиада Innopolis Open по информатике              Все мероприятия          Facebook   ВКонтакте   YouTube   Instagram         Абитуриентам Бизнесу Об университете Вакансии Проектная деятельность Мерч УИ    Контакты   +7 (843) 203-92-53   university@innopolis.ru   420500, г. Иннополис ул.Университетская, д.1   Как добраться   Научный отдел            +7 (937) 586-43-17   Виртуальная экскурсия   Ещё контакты     Пресс-служба   pr@innopolis.ru   Новости   Мероприятия     Полезные ссылки   Сведения об образовательной организации   Министерство цифрового развития, связи и массовых коммуникаций РФ   Министерство науки и высшего образования РФ   Конкурс на замещение вакантных должностей ППС   Политика конфиденциальности   «Горячая линия» ситуационного центра (COVID-2019):   +7 (495) 198-00-00   Антитеррористическая деятельность             Мы используем файлы cookies  Они помогают улучшить работу сайта и сделать его удобнее.', 'Посещая страницы сайта, вы соглашаетесь с условиями использования файлов cookie.', 'Согласен']\n"
     ]
    }
   ],
   "source": [
    "doc = HtmlDocumentTextData(\"https://innopolis.university/\")\n",
    "\n",
    "print(doc.get_word_stats().most_common(10))\n",
    "print(doc.get_sentences())\n",
    "assert [x for x in doc.get_word_stats().most_common(10) if x[0] == 'иннополис'], 'иннополис should be among most common'"
   ]
  },
  {
   "cell_type": "markdown",
   "metadata": {},
   "source": [
    "## 1.5. [M][35] Languages\n",
    "Maybe you heard, that there are multiple languages in the world. European languages, like Russian and English, use similar puctuation, but even in this family there is ¡Spanish!\n",
    "\n",
    "Other languages can use different punctiation rules, like **Arabic or [Thai](http://www.thai-language.com/ref/breaking-words)**.\n",
    "\n",
    "Your task is to support (at least) three languages (English, Arabic, and Thai) tokenization in your `HtmlDocumentTextData` class descendant.\n",
    "\n",
    "What should you do:\n",
    "1. Use any language dection techniques, e.g. [langdetect](https://pypi.org/project/langdetect/).\n",
    "2. Use language-specific tokenization tools, e.g. for [Thai](https://pythainlp.github.io/tutorials/notebooks/pythainlp_get_started.html#Tokenization-and-Segmentation) and [Arabic](https://github.com/CAMeL-Lab/camel_tools).\n",
    "3. Use these pages to test your code: [1](https://www.bangkokair.com/tha/baggage-allowance) and [2](https://alfajr-news.net/details/%D9%85%D8%B4%D8%B1%D9%88%D8%B9-%D8%AF%D9%8A%D9%85%D9%88%D9%82%D8%B1%D8%A7%D8%B7%D9%8A-%D9%81%D9%8A-%D8%A7%D9%84%D9%83%D9%88%D9%86%D8%BA%D8%B1%D8%B3-%D8%A7%D9%84%D8%A3%D9%85%D8%B1%D9%8A%D9%83%D9%8A-%D9%84%D9%85%D8%B9%D8%A7%D9%82%D8%A8%D8%A9-%D8%A8%D9%88%D8%AA%D9%8A%D9%86)."
   ]
  },
  {
   "cell_type": "code",
   "execution_count": 77,
   "outputs": [],
   "source": [],
   "metadata": {
    "collapsed": false,
    "pycharm": {
     "name": "#%%\n"
    }
   }
  },
  {
   "cell_type": "code",
   "execution_count": 80,
   "metadata": {},
   "outputs": [],
   "source": [
    "from langdetect import detect\n",
    "from pythainlp import word_tokenize as thaitokenize\n",
    "import camel_tools.tokenizers.word\n",
    "class MultilingualHtmlDocumentTextData(HtmlDocumentTextData):\n",
    "    \n",
    "    #TODO your code here\n",
    "    def __init__(self,url):\n",
    "        HtmlDocumentTextData.__init__(self,url)\n",
    "        self.language=detect(self.doc.text) #detecting language of the text\n",
    "\n",
    "\n",
    "    def get_word_stats(self):\n",
    "        text=self.doc.text\n",
    "        if self.language=='en': #eng\n",
    "            return Counter(nltk.word_tokenize(text))\n",
    "        if self.language=='th': #thai\n",
    "            return Counter(thaitokenize(text))\n",
    "        if self.language=='ar':\n",
    "            return Counter(camel_tools.tokenizers.word.simple_word_tokenize(text))\n",
    "\n",
    "\n",
    "        #TODO return Counter object of the document, containing mapping {`word` -> count_in_doc}\n",
    "\n",
    "\n",
    "\n",
    "\n",
    "\n"
   ]
  },
  {
   "cell_type": "markdown",
   "metadata": {},
   "source": [
    "### 1.5.1. Tests"
   ]
  },
  {
   "cell_type": "code",
   "execution_count": 81,
   "metadata": {},
   "outputs": [
    {
     "name": "stdout",
     "output_type": "stream",
     "text": [
      "[(' ', 217), ('  ', 122), ('    ', 69), ('สัมภาระ', 34), ('   ', 27), ('การ', 25), ('เรา', 24), ('     ', 23), ('และ', 22), ('ของ', 21)]\n",
      "[('تعليق', 12), ('مشاهده', 10), ('.', 5), ('الإمارات', 5), ('-', 4), ('بن', 4), ('زايد', 4), ('في', 4), ('الفجر', 4), ('و', 4)]\n"
     ]
    }
   ],
   "source": [
    "doc = MultilingualHtmlDocumentTextData(\"https://www.bangkokair.com/tha/baggage-allowance\")\n",
    "print(doc.get_word_stats().most_common(10))\n",
    "\n",
    "doc = MultilingualHtmlDocumentTextData(\"https://alfajr-news.net/details/%D9%85%D8%B4%D8%B1%D9%88%D8%B9-%D8%AF%D9%8A%D9%85%D9%88%D9%82%D8%B1%D8%A7%D8%B7%D9%8A-%D9%81%D9%8A-%D8%A7%D9%84%D9%83%D9%88%D9%86%D8%BA%D8%B1%D8%B3-%D8%A7%D9%84%D8%A3%D9%85%D8%B1%D9%8A%D9%83%D9%8A-%D9%84%D9%85%D8%B9%D8%A7%D9%82\")\n",
    "print(doc.get_word_stats().most_common(10))"
   ]
  },
  {
   "cell_type": "markdown",
   "metadata": {},
   "source": [
    "## 1.5. [15] Crawling ##\n",
    "\n",
    "Method `crawl_generator()` is given starting url (`source`) and max depth of search. It should return a **generator** of `HtmlDocumentTextData` objects (return a document as soon as it is downloaded and parsed). You can benefit from `yield obj_name` python construction. Use `HtmlDocumentTextData.anchors` field to go deeper."
   ]
  },
  {
   "cell_type": "code",
   "execution_count": 82,
   "metadata": {},
   "outputs": [],
   "source": [
    "from queue import Queue\n",
    "\n",
    "class Crawler:\n",
    "    def crawl_generator(self, source, depth=1):\n",
    "        queue = [(source, 1)]\n",
    "        visited = [source]\n",
    "        while len(queue) > 0:\n",
    "            cur_url, cur_depth = queue.pop(0)\n",
    "            if cur_depth > depth:\n",
    "                return\n",
    "            try:\n",
    "                HtmlDocument = HtmlDocumentTextData(cur_url)\n",
    "                for l in HtmlDocument.doc.anchors:\n",
    "                    link = l[1]\n",
    "                    if link not in visited:\n",
    "                        visited.append(link)\n",
    "                        queue.append((link, cur_depth+1))\n",
    "                yield HtmlDocument\n",
    "            except:\n",
    "                continue\n",
    "\n",
    "\n"
   ]
  },
  {
   "cell_type": "code",
   "execution_count": null,
   "outputs": [],
   "source": [],
   "metadata": {
    "collapsed": false,
    "pycharm": {
     "name": "#%%\n"
    }
   }
  },
  {
   "cell_type": "markdown",
   "metadata": {},
   "source": [
    "### 1.5. Tests ###"
   ]
  },
  {
   "cell_type": "code",
   "execution_count": 83,
   "metadata": {},
   "outputs": [
    {
     "name": "stdout",
     "output_type": "stream",
     "text": [
      "https://innopolis.university/en/\n",
      "345 distinct word(s) so far\n",
      "https://apply.innopolis.university/en\n",
      "1064 distinct word(s) so far\n",
      "https://corporate.innopolis.university/en\n",
      "1221 distinct word(s) so far\n",
      "https://media.innopolis.university/en\n",
      "1271 distinct word(s) so far\n",
      "https://innopolis.university/lk/\n",
      "1628 distinct word(s) so far\n",
      "https://innopolis.university/en/about/\n",
      "1755 distinct word(s) so far\n",
      "https://innopolis.university/en/board/\n",
      "1842 distinct word(s) so far\n",
      "https://innopolis.university/en/team/\n",
      "1843 distinct word(s) so far\n",
      "https://innopolis.university/en/team-structure/\n",
      "1846 distinct word(s) so far\n",
      "https://innopolis.university/en/team-structure/education-academics/\n",
      "1850 distinct word(s) so far\n",
      "https://innopolis.university/en/team-structure/techcenters/\n",
      "1852 distinct word(s) so far\n",
      "https://innopolis.university/en/faculty/\n",
      "2709 distinct word(s) so far\n",
      "https://career.innopolis.university/en/job/\n",
      "3120 distinct word(s) so far\n",
      "https://career.innopolis.university/en/\n",
      "3360 distinct word(s) so far\n",
      "https://innopolis.university/en/campus\n",
      "3465 distinct word(s) so far\n",
      "https://innopolis.university/en/contacts/\n",
      "3471 distinct word(s) so far\n",
      "https://apply.innopolis.university/en/\n",
      "3471 distinct word(s) so far\n",
      "https://apply.innopolis.university/en/bachelor/\n",
      "3518 distinct word(s) so far\n",
      "https://apply.innopolis.university/en/bachelor/CE/\n",
      "3529 distinct word(s) so far\n",
      "https://apply.innopolis.university/en/bachelor/DS-AI/\n",
      "3545 distinct word(s) so far\n",
      "https://apply.innopolis.university/en/master/\n",
      "3558 distinct word(s) so far\n",
      "https://apply.innopolis.university/en/master/datascience/\n",
      "3616 distinct word(s) so far\n",
      "https://apply.innopolis.university/en/master/securityandnetworkengineering/\n",
      "3657 distinct word(s) so far\n",
      "https://apply.innopolis.university/en/master/development/\n",
      "3697 distinct word(s) so far\n",
      "https://apply.innopolis.university/en/master/robotics/\n",
      "3748 distinct word(s) so far\n",
      "https://apply.innopolis.university/en/master/technological-entrepreneurship/\n",
      "3871 distinct word(s) so far\n",
      "https://apply.innopolis.university/en/postgraduate-study/\n",
      "3933 distinct word(s) so far\n",
      "https://apply.innopolis.university/en/stud-life/\n",
      "3987 distinct word(s) so far\n",
      "https://innopolis.university/en/international-relations-office/\n",
      "4217 distinct word(s) so far\n",
      "https://innopolis.university/en/incomingstudents/\n",
      "4249 distinct word(s) so far\n",
      "https://innopolis.university/en/outgoingstudents/\n",
      "4269 distinct word(s) so far\n",
      "https://innopolis.university/en/teachingexcellencecenter/\n",
      "4451 distinct word(s) so far\n",
      "https://innopolis.university/en/writinghubhome/\n",
      "4463 distinct word(s) so far\n",
      "https://alumni.innopolis.university/\n",
      "4677 distinct word(s) so far\n",
      "https://innopolis.university/en/research/\n",
      "4705 distinct word(s) so far\n",
      "https://innopolis.university/en/lab-operating-systems/\n",
      "4726 distinct word(s) so far\n",
      "https://innopolis.university/en/lab-software-service-engineering/\n",
      "4811 distinct word(s) so far\n",
      "https://innopolis.university/en/lab-industrializing-software/\n",
      "4848 distinct word(s) so far\n",
      "https://innopolis.university/en/lab-bioinformatics/\n",
      "4884 distinct word(s) so far\n",
      "https://innopolis.university/en/lab-game-development/\n",
      "4928 distinct word(s) so far\n",
      "https://innopolis.university/en/lab-oil-gas/\n",
      "4971 distinct word(s) so far\n",
      "https://innopolis.university/en/mlkr/\n",
      "5078 distinct word(s) so far\n",
      "https://innopolis.university/en/lab-cyberphysical-systems/\n",
      "5103 distinct word(s) so far\n",
      "https://innopolis.university/en/lab-networks-blockchain/\n",
      "5142 distinct word(s) so far\n",
      "https://innopolis.university/en/lab-robotics/\n",
      "5215 distinct word(s) so far\n",
      "https://innopolis.university/en/proekty/activity/\n",
      "5239 distinct word(s) so far\n",
      "https://innopolis.university/en/proekty/podderzhka-innovacionnoj-deyatelnosti/\n",
      "5273 distinct word(s) so far\n",
      "https://innopolis.university/en/startupstudio/\n",
      "5300 distinct word(s) so far\n",
      "https://innopolis.university/en/internationalpartners/\n",
      "5302 distinct word(s) so far\n",
      "https://innopolis.university/en/organizatsiya-i-provedenie-meropriyatiy/\n",
      "5392 distinct word(s) so far\n",
      "https://innopolis.university/en/?special=Y\n",
      "5402 distinct word(s) so far\n",
      "https://innopolis.university/search/\n",
      "5405 distinct word(s) so far\n",
      "https://innopolis.university/\n",
      "5568 distinct word(s) so far\n",
      "https://innopolis.university/en/ido/\n",
      "5585 distinct word(s) so far\n",
      "https://dovuz.innopolis.university/\n",
      "5913 distinct word(s) so far\n",
      "https://university.innopolis.ru/en/about/\n",
      "5913 distinct word(s) so far\n",
      "http://www.campuslife.innopolis.ru\n",
      "5983 distinct word(s) so far\n",
      "https://media.innopolis.university/news/clobal-ai-challenge/\n",
      "6124 distinct word(s) so far\n",
      "https://media.innopolis.university/news/webinar-interstudents-eng/\n",
      "6131 distinct word(s) so far\n",
      "https://media.innopolis.university/news/devops-summer-school/\n",
      "6257 distinct word(s) so far\n",
      "https://media.innopolis.university/news/webinar-for-international-candidates-/\n",
      "6264 distinct word(s) so far\n",
      "https://media.innopolis.university/news/registration-innopolis-open-2020/\n",
      "6350 distinct word(s) so far\n",
      "https://media.innopolis.university/news/cyber-resilience-petrenko/\n",
      "6511 distinct word(s) so far\n",
      "https://media.innopolis.university/news/innopolis-university-extends-international-application-deadline-/\n",
      "6512 distinct word(s) so far\n",
      "https://media.innopolis.university/en/\n",
      "6512 distinct word(s) so far\n",
      "https://www.facebook.com/InnopolisU\n",
      "6512 distinct word(s) so far\n",
      "https://vk.com/innopolisu\n",
      "6711 distinct word(s) so far\n",
      "https://www.youtube.com/user/InnopolisU\n",
      "6722 distinct word(s) so far\n",
      "https://www.instagram.com/innopolisu/\n",
      "6722 distinct word(s) so far\n",
      "https://apply.innopolis.ru/en/index.php\n",
      "6969 distinct word(s) so far\n",
      "https://panoroo.com/virtual-tours/NvQZM6B2\n",
      "6969 distinct word(s) so far\n",
      "https://media.innopolis.university/en/news/\n",
      "6969 distinct word(s) so far\n",
      "https://media.innopolis.university/en/events/\n",
      "6971 distinct word(s) so far\n",
      "http://www.minsvyaz.ru/en/\n",
      "7027 distinct word(s) so far\n",
      "Done\n",
      "[('and', 3439), ('of', 3095), ('the', 2699), ('in', 1720), ('to', 1292), ('university', 1211), ('for', 929), ('a', 845), ('innopolis', 841), ('it', 543), ('research', 535), ('development', 526), ('lab', 518), ('at', 510), ('education', 488), ('science', 485), ('you', 477), ('students', 471), ('и', 452), ('software', 449)]\n"
     ]
    }
   ],
   "source": [
    "crawler = Crawler()\n",
    "counter = Counter()\n",
    "\n",
    "for c in crawler.crawl_generator(\"https://innopolis.university/en/\", 2):\n",
    "    print(c.doc.url)\n",
    "    if c.doc.url[-4:] in ('.pdf', '.mp3', '.avi', '.mp4', '.txt'):\n",
    "        print(\"Skipping\", c.doc.url)\n",
    "        continue\n",
    "    counter.update(c.get_word_stats())\n",
    "    print(len(counter), \"distinct word(s) so far\")\n",
    "    \n",
    "print(\"Done\")\n",
    "\n",
    "print(counter.most_common(20))\n",
    "assert [x for x in counter.most_common(20) if x[0] == 'innopolis'], 'innopolis sould be among most common'"
   ]
  },
  {
   "cell_type": "code",
   "execution_count": null,
   "outputs": [],
   "source": [],
   "metadata": {
    "collapsed": false,
    "pycharm": {
     "name": "#%%\n"
    }
   }
  }
 ],
 "metadata": {
  "kernelspec": {
   "display_name": "Python 3",
   "language": "python",
   "name": "python3"
  },
  "language_info": {
   "codemirror_mode": {
    "name": "ipython",
    "version": 3
   },
   "file_extension": ".py",
   "mimetype": "text/x-python",
   "name": "python",
   "nbconvert_exporter": "python",
   "pygments_lexer": "ipython3",
   "version": "3.8.8"
  }
 },
 "nbformat": 4,
 "nbformat_minor": 4
}